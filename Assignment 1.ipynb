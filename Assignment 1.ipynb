{
 "cells": [
  {
   "cell_type": "code",
   "execution_count": 3,
   "metadata": {
    "id": "zZfkG0mLeIUl"
   },
   "outputs": [],
   "source": [
    "import numpy as np\n",
    "import pandas as pd\n",
    "import matplotlib.pyplot as plt\n",
    "from sklearn.preprocessing import PolynomialFeatures\n",
    "from sklearn.model_selection import train_test_split\n",
    "from sklearn.datasets import load_boston\n",
    "from sklearn.metrics import mean_squared_error\n",
    "from sklearn.linear_model import LinearRegression"
   ]
  },
  {
   "cell_type": "code",
   "execution_count": 7,
   "metadata": {
    "colab": {
     "base_uri": "https://localhost:8080/"
    },
    "id": "A0B2sPrkeMoa",
    "outputId": "93740ff5-1704-4bc5-898f-1306ef43e3b5"
   },
   "outputs": [],
   "source": [
    "Data = load_boston()\n",
    "FeatureNames = Data.feature_names\n",
    "Data2 = pd.DataFrame(Data.data, columns=Data.feature_names)\n",
    "Data2['MEDV'] = pd.Series(Data.target)\n",
    "Data_X=Data2.drop('MEDV', axis=1, inplace=False)\n",
    "Data_Y=Data2['MEDV']"
   ]
  },
  {
   "cell_type": "code",
   "execution_count": 8,
   "metadata": {
    "id": "Pg02awAqmI7o"
   },
   "outputs": [
    {
     "name": "stdout",
     "output_type": "stream",
     "text": [
      "Root Mean Square Error >> [5.456971927684734, 5.707016121158744, 75.68075670961005, 259.70721960189394, 291.3397813734211, 221.44143413909532, 226.15136714808466]\n",
      "Minimum Root Mean Square Error: 5.456971927684734\n"
     ]
    }
   ],
   "source": [
    "RMSEArray=[]\n",
    "for i in range(1,8):\n",
    "  poly = PolynomialFeatures(degree= i, include_bias=False)\n",
    "  poly_features = poly.fit_transform(Data_X)\n",
    "  X_train, X_test, y_train, y_test = train_test_split(poly_features, Data_Y, test_size=0.4, random_state=1)\n",
    "  X_val, X_test, y_val, y_test = train_test_split(X_test, y_test, test_size=0.5, random_state=1)\n",
    "  poly_reg_model = LinearRegression()\n",
    "  poly_reg_model.fit(X_train, y_train)\n",
    "  poly_reg_y_predicted = poly_reg_model.predict(X_val)\n",
    "  RMSE = np.sqrt(mean_squared_error(y_val, poly_reg_y_predicted))\n",
    "  RMSEArray.append(RMSE)\n",
    "print('Root Mean Square Error >>',RMSEArray)\n",
    "print('Minimum Root Mean Square Error:',min(RMSEArray))"
   ]
  },
  {
   "cell_type": "code",
   "execution_count": 9,
   "metadata": {
    "colab": {
     "base_uri": "https://localhost:8080/"
    },
    "id": "fXgF0dZHv8RK",
    "outputId": "5069938b-784c-4489-fd8e-022712d173bd"
   },
   "outputs": [
    {
     "name": "stdout",
     "output_type": "stream",
     "text": [
      "4.547289065278917\n"
     ]
    }
   ],
   "source": [
    "MinIndex=RMSEArray.index(min(RMSEArray))+1\n",
    "poly = PolynomialFeatures(degree= MinIndex, include_bias=False)\n",
    "poly_features = poly.fit_transform(Data_X)\n",
    "X_train, X_test, y_train, y_test = train_test_split(poly_features, Data_Y, test_size=0.4, random_state=1)\n",
    "X_val, X_test, y_val, y_test = train_test_split(X_test, y_test, test_size=0.5, random_state=1)\n",
    "poly_reg_model = LinearRegression()\n",
    "poly_reg_model.fit(X_train, y_train)\n",
    "poly_reg_y_predicted = poly_reg_model.predict(X_test)\n",
    "RMSE = np.sqrt(mean_squared_error(y_test, poly_reg_y_predicted))\n",
    "print(RMSE)"
   ]
  },
  {
   "cell_type": "code",
   "execution_count": 10,
   "metadata": {
    "colab": {
     "base_uri": "https://localhost:8080/"
    },
    "id": "lCelCi_v6UEd",
    "outputId": "d735597d-520f-4aa6-dd35-d26cf3970b49"
   },
   "outputs": [
    {
     "name": "stdout",
     "output_type": "stream",
     "text": [
      "Training Score for Alpha 1e-05 : 0.7468316515844864 and its Test Score : 0.7366333554323465\n",
      "Training Score for Alpha 0.0001 : 0.7468316090611659 and its Test Score : 0.7366212347000438\n",
      "Training Score for Alpha 0.001 : 0.7468273562228122 and its Test Score : 0.7364961612391743\n",
      "Training Score for Alpha 0.01 : 0.7464028354764276 and its Test Score : 0.7348628113960632\n",
      "Training Score for Alpha 0.1 : 0.7324473082335632 and its Test Score : 0.7156255257568283\n"
     ]
    }
   ],
   "source": [
    "from sklearn.linear_model import Lasso\n",
    "for i in [0.00001,0.0001,0.001,0.01,0.1]:\n",
    "  lasso = Lasso(alpha=i, max_iter=10e5)\n",
    "  lasso.fit(X_train,y_train)\n",
    "  TrainScore=lasso.score(X_train,y_train)\n",
    "  TestScore=lasso.score(X_test,y_test) \n",
    "  print ('Training Score for Alpha '+ str(i) + ' :' , TrainScore,'and its Test Score :' , TestScore)"
   ]
  }
 ],
 "metadata": {
  "colab": {
   "collapsed_sections": [],
   "name": "Untitled19.ipynb",
   "provenance": []
  },
  "kernelspec": {
   "display_name": "Python 3 (ipykernel)",
   "language": "python",
   "name": "python3"
  },
  "language_info": {
   "codemirror_mode": {
    "name": "ipython",
    "version": 3
   },
   "file_extension": ".py",
   "mimetype": "text/x-python",
   "name": "python",
   "nbconvert_exporter": "python",
   "pygments_lexer": "ipython3",
   "version": "3.9.7"
  }
 },
 "nbformat": 4,
 "nbformat_minor": 1
}
